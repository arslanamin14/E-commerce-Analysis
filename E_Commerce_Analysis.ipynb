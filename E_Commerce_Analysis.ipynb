{
  "nbformat": 4,
  "nbformat_minor": 0,
  "metadata": {
    "colab": {
      "provenance": []
    },
    "kernelspec": {
      "name": "python3",
      "display_name": "Python 3"
    },
    "language_info": {
      "name": "python"
    }
  },
  "cells": [
    {
      "cell_type": "code",
      "source": [
        "from google.colab import drive\n",
        "drive.mount('/content/drive')"
      ],
      "metadata": {
        "id": "uNflOCUIBkoS",
        "colab": {
          "base_uri": "https://localhost:8080/"
        },
        "outputId": "3347680f-1003-423e-d0bd-799c9b46f91b"
      },
      "execution_count": null,
      "outputs": [
        {
          "output_type": "stream",
          "name": "stdout",
          "text": [
            "Mounted at /content/drive\n"
          ]
        }
      ]
    },
    {
      "cell_type": "code",
      "source": [
        "# install the pyspark\n",
        "!pip install pyspark\n",
        "!pip install -U -q PyDrive\n",
        "!apt install openjdk-8-jdk-headless -qq"
      ],
      "metadata": {
        "colab": {
          "base_uri": "https://localhost:8080/"
        },
        "id": "Emw56p2rBuQa",
        "outputId": "a92218ee-6224-45b0-a4ae-6adbeeaf6299"
      },
      "execution_count": null,
      "outputs": [
        {
          "output_type": "stream",
          "name": "stdout",
          "text": [
            "Looking in indexes: https://pypi.org/simple, https://us-python.pkg.dev/colab-wheels/public/simple/\n",
            "Collecting pyspark\n",
            "  Downloading pyspark-3.3.0.tar.gz (281.3 MB)\n",
            "\u001b[K     |████████████████████████████████| 281.3 MB 36 kB/s \n",
            "\u001b[?25hCollecting py4j==0.10.9.5\n",
            "  Downloading py4j-0.10.9.5-py2.py3-none-any.whl (199 kB)\n",
            "\u001b[K     |████████████████████████████████| 199 kB 61.3 MB/s \n",
            "\u001b[?25hBuilding wheels for collected packages: pyspark\n",
            "  Building wheel for pyspark (setup.py) ... \u001b[?25l\u001b[?25hdone\n",
            "  Created wheel for pyspark: filename=pyspark-3.3.0-py2.py3-none-any.whl size=281764026 sha256=c6ef6011e8fc907a2be2c8d1824a87a0546fbfdc8821760152423a016e9071ac\n",
            "  Stored in directory: /root/.cache/pip/wheels/7a/8e/1b/f73a52650d2e5f337708d9f6a1750d451a7349a867f928b885\n",
            "Successfully built pyspark\n",
            "Installing collected packages: py4j, pyspark\n",
            "Successfully installed py4j-0.10.9.5 pyspark-3.3.0\n",
            "The following package was automatically installed and is no longer required:\n",
            "  libnvidia-common-460\n",
            "Use 'apt autoremove' to remove it.\n",
            "The following additional packages will be installed:\n",
            "  openjdk-8-jre-headless\n",
            "Suggested packages:\n",
            "  openjdk-8-demo openjdk-8-source libnss-mdns fonts-dejavu-extra\n",
            "  fonts-ipafont-gothic fonts-ipafont-mincho fonts-wqy-microhei\n",
            "  fonts-wqy-zenhei fonts-indic\n",
            "The following NEW packages will be installed:\n",
            "  openjdk-8-jdk-headless openjdk-8-jre-headless\n",
            "0 upgraded, 2 newly installed, 0 to remove and 49 not upgraded.\n",
            "Need to get 36.5 MB of archives.\n",
            "After this operation, 143 MB of additional disk space will be used.\n",
            "Selecting previously unselected package openjdk-8-jre-headless:amd64.\n",
            "(Reading database ... 155653 files and directories currently installed.)\n",
            "Preparing to unpack .../openjdk-8-jre-headless_8u312-b07-0ubuntu1~18.04_amd64.deb ...\n",
            "Unpacking openjdk-8-jre-headless:amd64 (8u312-b07-0ubuntu1~18.04) ...\n",
            "Selecting previously unselected package openjdk-8-jdk-headless:amd64.\n",
            "Preparing to unpack .../openjdk-8-jdk-headless_8u312-b07-0ubuntu1~18.04_amd64.deb ...\n",
            "Unpacking openjdk-8-jdk-headless:amd64 (8u312-b07-0ubuntu1~18.04) ...\n",
            "Setting up openjdk-8-jre-headless:amd64 (8u312-b07-0ubuntu1~18.04) ...\n",
            "update-alternatives: using /usr/lib/jvm/java-8-openjdk-amd64/jre/bin/orbd to provide /usr/bin/orbd (orbd) in auto mode\n",
            "update-alternatives: using /usr/lib/jvm/java-8-openjdk-amd64/jre/bin/servertool to provide /usr/bin/servertool (servertool) in auto mode\n",
            "update-alternatives: using /usr/lib/jvm/java-8-openjdk-amd64/jre/bin/tnameserv to provide /usr/bin/tnameserv (tnameserv) in auto mode\n",
            "Setting up openjdk-8-jdk-headless:amd64 (8u312-b07-0ubuntu1~18.04) ...\n",
            "update-alternatives: using /usr/lib/jvm/java-8-openjdk-amd64/bin/idlj to provide /usr/bin/idlj (idlj) in auto mode\n",
            "update-alternatives: using /usr/lib/jvm/java-8-openjdk-amd64/bin/wsimport to provide /usr/bin/wsimport (wsimport) in auto mode\n",
            "update-alternatives: using /usr/lib/jvm/java-8-openjdk-amd64/bin/jsadebugd to provide /usr/bin/jsadebugd (jsadebugd) in auto mode\n",
            "update-alternatives: using /usr/lib/jvm/java-8-openjdk-amd64/bin/native2ascii to provide /usr/bin/native2ascii (native2ascii) in auto mode\n",
            "update-alternatives: using /usr/lib/jvm/java-8-openjdk-amd64/bin/javah to provide /usr/bin/javah (javah) in auto mode\n",
            "update-alternatives: using /usr/lib/jvm/java-8-openjdk-amd64/bin/hsdb to provide /usr/bin/hsdb (hsdb) in auto mode\n",
            "update-alternatives: using /usr/lib/jvm/java-8-openjdk-amd64/bin/clhsdb to provide /usr/bin/clhsdb (clhsdb) in auto mode\n",
            "update-alternatives: using /usr/lib/jvm/java-8-openjdk-amd64/bin/xjc to provide /usr/bin/xjc (xjc) in auto mode\n",
            "update-alternatives: using /usr/lib/jvm/java-8-openjdk-amd64/bin/schemagen to provide /usr/bin/schemagen (schemagen) in auto mode\n",
            "update-alternatives: using /usr/lib/jvm/java-8-openjdk-amd64/bin/extcheck to provide /usr/bin/extcheck (extcheck) in auto mode\n",
            "update-alternatives: using /usr/lib/jvm/java-8-openjdk-amd64/bin/jhat to provide /usr/bin/jhat (jhat) in auto mode\n",
            "update-alternatives: using /usr/lib/jvm/java-8-openjdk-amd64/bin/wsgen to provide /usr/bin/wsgen (wsgen) in auto mode\n"
          ]
        }
      ]
    },
    {
      "cell_type": "code",
      "source": [
        "# import the libraries\n",
        "import pandas as pd\n",
        "import numpy as np\n",
        "import matplotlib.pyplot as plt\n",
        "%matplotlib inline\n",
        "import pyspark\n",
        "from pyspark.sql import *\n",
        "from pyspark.sql.functions import *\n",
        "from pyspark import SparkContext, SparkConf\n",
        "from pyspark.ml import Pipeline\n",
        "from pyspark.sql.functions import *\n",
        "from pyspark.sql import functions as f, udf\n",
        "from pyspark.sql.window import Window\n",
        "from pyspark.sql.functions import col\n",
        "from pyspark.sql.functions import col,isnan, when, count\n",
        "from pyspark.ml.feature import VectorAssembler\n",
        "from pyspark.ml.regression import LinearRegression\n",
        "from pyspark.ml.regression import RandomForestRegressor\n",
        "from pyspark.ml.evaluation import RegressionEvaluator\n",
        "from pyspark.mllib.regression import LabeledPoint\n",
        "from pyspark.mllib.classification import LogisticRegressionWithLBFGS\n",
        "from pyspark.mllib.classification import LogisticRegressionWithSGD"
      ],
      "metadata": {
        "id": "OwHHN659BwXK"
      },
      "execution_count": null,
      "outputs": []
    },
    {
      "cell_type": "code",
      "source": [
        "# create the session\n",
        "conf = pyspark.SparkConf()\n",
        "# create the context\n",
        "sc = pyspark.SparkContext.getOrCreate(conf=conf)\n",
        "sqlcontext = SQLContext(sc)\n",
        "spark = SparkSession.builder.getOrCreate()"
      ],
      "metadata": {
        "colab": {
          "base_uri": "https://localhost:8080/"
        },
        "id": "EAUgkVJLBxOT",
        "outputId": "7a624b94-096f-4b58-a735-b7771a066424"
      },
      "execution_count": null,
      "outputs": [
        {
          "output_type": "stream",
          "name": "stderr",
          "text": [
            "/usr/local/lib/python3.7/dist-packages/pyspark/sql/context.py:114: FutureWarning: Deprecated in 3.0.0. Use SparkSession.builder.getOrCreate() instead.\n",
            "  FutureWarning,\n"
          ]
        }
      ]
    },
    {
      "cell_type": "markdown",
      "source": [
        "## Linear Regression"
      ],
      "metadata": {
        "id": "i8skTqLrrneA"
      }
    },
    {
      "cell_type": "code",
      "source": [
        "# read the data and display\n",
        "data = spark.read.csv('/content/drive/MyDrive/13-07-2022/Ecommerce Customers.csv',header='true')\n",
        "data.show(5)"
      ],
      "metadata": {
        "colab": {
          "base_uri": "https://localhost:8080/"
        },
        "id": "KdqU_zAY_9g_",
        "outputId": "f74baf53-18e9-4bd3-a329-89acec4fa1bf"
      },
      "execution_count": null,
      "outputs": [
        {
          "output_type": "stream",
          "name": "stdout",
          "text": [
            "+--------------------+--------------------+---------+-------------------+------------------+------------------+--------------------+-------------------+\n",
            "|               Email|             Address|   Avatar|Avg. Session Length|       Time on App|   Time on Website|Length of Membership|Yearly Amount Spent|\n",
            "+--------------------+--------------------+---------+-------------------+------------------+------------------+--------------------+-------------------+\n",
            "|mstephenson@ferna...|    835 Frank Tunnel|     null|               null|              null|              null|                null|               null|\n",
            "|         Wrightmouth|      MI 82180-9605\"|   Violet|  34.49726772511229|12.655651149166752| 39.57766801952616|   4.082620632952961|  587.9510539684005|\n",
            "|   hduke@hotmail.com|  4547 Archer Common|     null|               null|              null|              null|                null|               null|\n",
            "|         Diazchester|      CA 06566-8576\"|DarkGreen| 31.926272026360156|11.109460728682564|37.268958868297744|    2.66403418213262|  392.2049334443264|\n",
            "|    pallen@yahoo.com|24645 Valerie Uni...|     null|               null|              null|              null|                null|               null|\n",
            "+--------------------+--------------------+---------+-------------------+------------------+------------------+--------------------+-------------------+\n",
            "only showing top 5 rows\n",
            "\n"
          ]
        }
      ]
    },
    {
      "cell_type": "code",
      "source": [
        "data = data.withColumnRenamed(\"Avg. Session Length\",\"Avg Session Length\")"
      ],
      "metadata": {
        "id": "j-g_lvsvgGcY"
      },
      "execution_count": null,
      "outputs": []
    },
    {
      "cell_type": "code",
      "source": [
        "data.show(5)"
      ],
      "metadata": {
        "colab": {
          "base_uri": "https://localhost:8080/"
        },
        "id": "0-W4DT8Qg4E6",
        "outputId": "b6e53783-8510-46c8-ac6b-22dc0ac862d5"
      },
      "execution_count": null,
      "outputs": [
        {
          "output_type": "stream",
          "name": "stdout",
          "text": [
            "+--------------------+--------------------+---------+------------------+------------------+------------------+--------------------+-------------------+\n",
            "|               Email|             Address|   Avatar|Avg Session Length|       Time on App|   Time on Website|Length of Membership|Yearly Amount Spent|\n",
            "+--------------------+--------------------+---------+------------------+------------------+------------------+--------------------+-------------------+\n",
            "|mstephenson@ferna...|    835 Frank Tunnel|     null|              null|              null|              null|                null|               null|\n",
            "|         Wrightmouth|      MI 82180-9605\"|   Violet| 34.49726772511229|12.655651149166752| 39.57766801952616|   4.082620632952961|  587.9510539684005|\n",
            "|   hduke@hotmail.com|  4547 Archer Common|     null|              null|              null|              null|                null|               null|\n",
            "|         Diazchester|      CA 06566-8576\"|DarkGreen|31.926272026360156|11.109460728682564|37.268958868297744|    2.66403418213262|  392.2049334443264|\n",
            "|    pallen@yahoo.com|24645 Valerie Uni...|     null|              null|              null|              null|                null|               null|\n",
            "+--------------------+--------------------+---------+------------------+------------------+------------------+--------------------+-------------------+\n",
            "only showing top 5 rows\n",
            "\n"
          ]
        }
      ]
    },
    {
      "cell_type": "code",
      "source": [
        "# find the null values in the data\n",
        "data.select([count(when(isnan(c) | col(c).isNull(), c)).alias(c) for c in data.columns]).show()"
      ],
      "metadata": {
        "colab": {
          "base_uri": "https://localhost:8080/"
        },
        "id": "Drj-YLGMDJZv",
        "outputId": "2e1b79a8-4be5-45c8-f1f7-2c33944d7cbc"
      },
      "execution_count": null,
      "outputs": [
        {
          "output_type": "stream",
          "name": "stdout",
          "text": [
            "+-----+-------+------+------------------+-----------+---------------+--------------------+-------------------+\n",
            "|Email|Address|Avatar|Avg Session Length|Time on App|Time on Website|Length of Membership|Yearly Amount Spent|\n",
            "+-----+-------+------+------------------+-----------+---------------+--------------------+-------------------+\n",
            "|    0|      0|   500|               500|        500|            500|                 500|                546|\n",
            "+-----+-------+------+------------------+-----------+---------------+--------------------+-------------------+\n",
            "\n"
          ]
        }
      ]
    },
    {
      "cell_type": "code",
      "source": [
        "# drop the null values\n",
        "data=data.na.drop()"
      ],
      "metadata": {
        "id": "pL2gAOaNDi5P"
      },
      "execution_count": null,
      "outputs": []
    },
    {
      "cell_type": "code",
      "source": [
        "# find the null values in the data\n",
        "data.select([count(when(isnan(c) | col(c).isNull(), c)).alias(c) for c in data.columns]).show()"
      ],
      "metadata": {
        "colab": {
          "base_uri": "https://localhost:8080/"
        },
        "id": "VX_W6v91hY3C",
        "outputId": "e86c4a43-16e7-44f8-afb5-3201792229d2"
      },
      "execution_count": null,
      "outputs": [
        {
          "output_type": "stream",
          "name": "stdout",
          "text": [
            "+-----+-------+------+------------------+-----------+---------------+--------------------+-------------------+\n",
            "|Email|Address|Avatar|Avg Session Length|Time on App|Time on Website|Length of Membership|Yearly Amount Spent|\n",
            "+-----+-------+------+------------------+-----------+---------------+--------------------+-------------------+\n",
            "|    0|      0|     0|                 0|          0|              0|                   0|                  0|\n",
            "+-----+-------+------+------------------+-----------+---------------+--------------------+-------------------+\n",
            "\n"
          ]
        }
      ]
    },
    {
      "cell_type": "code",
      "source": [
        "data.show(5)"
      ],
      "metadata": {
        "colab": {
          "base_uri": "https://localhost:8080/"
        },
        "id": "I4K30kqphboY",
        "outputId": "904ecf74-7a78-4bc2-d943-ca2509484fd2"
      },
      "execution_count": null,
      "outputs": [
        {
          "output_type": "stream",
          "name": "stdout",
          "text": [
            "+---------------+---------------+----------------+------------------+------------------+------------------+--------------------+-------------------+\n",
            "|          Email|        Address|          Avatar|Avg Session Length|       Time on App|   Time on Website|Length of Membership|Yearly Amount Spent|\n",
            "+---------------+---------------+----------------+------------------+------------------+------------------+--------------------+-------------------+\n",
            "|    Wrightmouth| MI 82180-9605\"|          Violet| 34.49726772511229|12.655651149166752| 39.57766801952616|   4.082620632952961|  587.9510539684005|\n",
            "|    Diazchester| CA 06566-8576\"|       DarkGreen|31.926272026360156|11.109460728682564|37.268958868297744|    2.66403418213262|  392.2049334443264|\n",
            "|    Cobbborough| DC 99414-7564\"|          Bisque|33.000914755642675|11.330278057777512| 37.11059744212085|   4.104543202376424| 487.54750486747207|\n",
            "|     Port Jason| OH 22070-1220\"|     SaddleBrown| 34.30555662975554|13.717513665142508| 36.72128267790313|  3.1201787827480914|  581.8523440352178|\n",
            "|Port Jacobville| PR 37242-1057\"|MediumAquaMarine| 33.33067252364639|12.795188551078114| 37.53665330059473|   4.446308318351435|  599.4060920457634|\n",
            "+---------------+---------------+----------------+------------------+------------------+------------------+--------------------+-------------------+\n",
            "only showing top 5 rows\n",
            "\n"
          ]
        }
      ]
    },
    {
      "cell_type": "code",
      "source": [
        "# display the schema and the number of rows\n",
        "data.printSchema()\n",
        "print(\"Rows: %s\" % data.count())"
      ],
      "metadata": {
        "colab": {
          "base_uri": "https://localhost:8080/"
        },
        "id": "75O0S8uH_9mV",
        "outputId": "8fa854a7-f676-4476-c312-f1755bf2d952"
      },
      "execution_count": null,
      "outputs": [
        {
          "output_type": "stream",
          "name": "stdout",
          "text": [
            "root\n",
            " |-- Email: string (nullable = true)\n",
            " |-- Address: string (nullable = true)\n",
            " |-- Avatar: string (nullable = true)\n",
            " |-- Avg Session Length: string (nullable = true)\n",
            " |-- Time on App: string (nullable = true)\n",
            " |-- Time on Website: string (nullable = true)\n",
            " |-- Length of Membership: string (nullable = true)\n",
            " |-- Yearly Amount Spent: string (nullable = true)\n",
            "\n",
            "Rows: 454\n"
          ]
        }
      ]
    },
    {
      "cell_type": "code",
      "source": [
        "# final_data=data.select(,\"Yearly Amount Spent\")\n",
        "final_data = data.select(col('Yearly Amount Spent').alias('label'),\"Avg Session Length\",\"Time on App\",\"Time on Website\",\"Length of Membership\")\n",
        "# final_data = final_data.withColumnRenamed(\"Yearly Amount Spent\",\"label\")"
      ],
      "metadata": {
        "id": "EeJErb_4jdZ9"
      },
      "execution_count": null,
      "outputs": []
    },
    {
      "cell_type": "code",
      "source": [
        "final_data.show(5)"
      ],
      "metadata": {
        "colab": {
          "base_uri": "https://localhost:8080/"
        },
        "id": "ByaLXyYrj01P",
        "outputId": "dc0e291d-bdeb-42a9-ca3b-4e36812513fe"
      },
      "execution_count": null,
      "outputs": [
        {
          "output_type": "stream",
          "name": "stdout",
          "text": [
            "+------------------+------------------+------------------+------------------+--------------------+\n",
            "|             label|Avg Session Length|       Time on App|   Time on Website|Length of Membership|\n",
            "+------------------+------------------+------------------+------------------+--------------------+\n",
            "| 587.9510539684005| 34.49726772511229|12.655651149166752| 39.57766801952616|   4.082620632952961|\n",
            "| 392.2049334443264|31.926272026360156|11.109460728682564|37.268958868297744|    2.66403418213262|\n",
            "|487.54750486747207|33.000914755642675|11.330278057777512| 37.11059744212085|   4.104543202376424|\n",
            "| 581.8523440352178| 34.30555662975554|13.717513665142508| 36.72128267790313|  3.1201787827480914|\n",
            "| 599.4060920457634| 33.33067252364639|12.795188551078114| 37.53665330059473|   4.446308318351435|\n",
            "+------------------+------------------+------------------+------------------+--------------------+\n",
            "only showing top 5 rows\n",
            "\n"
          ]
        }
      ]
    },
    {
      "cell_type": "code",
      "source": [
        "# type casting the data\n",
        "final_data=final_data.select([col(c).cast(\"float\") for c in final_data.columns])\n",
        "final_data.show(5)"
      ],
      "metadata": {
        "colab": {
          "base_uri": "https://localhost:8080/"
        },
        "id": "x9dm3w6-kefM",
        "outputId": "e1d12b3d-631b-4906-b886-db2b768a3c37"
      },
      "execution_count": null,
      "outputs": [
        {
          "output_type": "stream",
          "name": "stdout",
          "text": [
            "+---------+------------------+-----------+---------------+--------------------+\n",
            "|    label|Avg Session Length|Time on App|Time on Website|Length of Membership|\n",
            "+---------+------------------+-----------+---------------+--------------------+\n",
            "|587.95105|          34.49727|  12.655651|      39.577667|           4.0826206|\n",
            "|392.20493|         31.926271|  11.109461|       37.26896|           2.6640341|\n",
            "|487.54752|         33.000916|  11.330278|      37.110596|            4.104543|\n",
            "|581.85236|         34.305557|  13.717514|      36.721283|           3.1201787|\n",
            "|599.40607|         33.330673|  12.795189|       37.53665|            4.446308|\n",
            "+---------+------------------+-----------+---------------+--------------------+\n",
            "only showing top 5 rows\n",
            "\n"
          ]
        }
      ]
    },
    {
      "cell_type": "code",
      "source": [
        "# select the columns to be used as the features (all except 'Yearly Amount Spent')\n",
        "featureColumns = [c for c in final_data.columns if c != 'label']\n",
        "\n",
        "# create and configure the assembler\n",
        "assembler = VectorAssembler(inputCols=featureColumns, outputCol=\"features\")\n",
        "\n",
        "# transform the original data\n",
        "dataDF = assembler.transform(final_data)"
      ],
      "metadata": {
        "id": "KBv-a3Rl_9ot"
      },
      "execution_count": null,
      "outputs": []
    },
    {
      "cell_type": "code",
      "source": [
        "dataDF.show(5)"
      ],
      "metadata": {
        "colab": {
          "base_uri": "https://localhost:8080/"
        },
        "id": "Qc29Qot7kp1m",
        "outputId": "b981d70d-ea8e-4cc4-c72d-035cc287a6e6"
      },
      "execution_count": null,
      "outputs": [
        {
          "output_type": "stream",
          "name": "stdout",
          "text": [
            "+---------+------------------+-----------+---------------+--------------------+--------------------+\n",
            "|    label|Avg Session Length|Time on App|Time on Website|Length of Membership|            features|\n",
            "+---------+------------------+-----------+---------------+--------------------+--------------------+\n",
            "|587.95105|          34.49727|  12.655651|      39.577667|           4.0826206|[34.4972686767578...|\n",
            "|392.20493|         31.926271|  11.109461|       37.26896|           2.6640341|[31.9262714385986...|\n",
            "|487.54752|         33.000916|  11.330278|      37.110596|            4.104543|[33.0009155273437...|\n",
            "|581.85236|         34.305557|  13.717514|      36.721283|           3.1201787|[34.3055572509765...|\n",
            "|599.40607|         33.330673|  12.795189|       37.53665|            4.446308|[33.3306732177734...|\n",
            "+---------+------------------+-----------+---------------+--------------------+--------------------+\n",
            "only showing top 5 rows\n",
            "\n"
          ]
        }
      ]
    },
    {
      "cell_type": "code",
      "source": [
        "final=dataDF.select(\"label\",\"features\")\n",
        "final.show(5)"
      ],
      "metadata": {
        "colab": {
          "base_uri": "https://localhost:8080/"
        },
        "id": "u-GErUvx_9ru",
        "outputId": "c5a7a68b-5d6e-4d8e-84fe-f2030335257c"
      },
      "execution_count": null,
      "outputs": [
        {
          "output_type": "stream",
          "name": "stdout",
          "text": [
            "+---------+--------------------+\n",
            "|    label|            features|\n",
            "+---------+--------------------+\n",
            "|587.95105|[34.4972686767578...|\n",
            "|392.20493|[31.9262714385986...|\n",
            "|487.54752|[33.0009155273437...|\n",
            "|581.85236|[34.3055572509765...|\n",
            "|599.40607|[33.3306732177734...|\n",
            "+---------+--------------------+\n",
            "only showing top 5 rows\n",
            "\n"
          ]
        }
      ]
    },
    {
      "cell_type": "code",
      "source": [
        "# splitting the dataset\n",
        "train, test = final.randomSplit([0.7, 0.3])"
      ],
      "metadata": {
        "id": "Belk1kPWoyiN"
      },
      "execution_count": null,
      "outputs": []
    },
    {
      "cell_type": "code",
      "source": [
        "# feeding th data to the model\n",
        "lr = LinearRegression(labelCol ='label', featuresCol ='features')"
      ],
      "metadata": {
        "id": "MXLhmqxAmf-B"
      },
      "execution_count": null,
      "outputs": []
    },
    {
      "cell_type": "code",
      "source": [
        "# training the model\n",
        "lr_model=lr.fit(train)\n",
        "# predict on test data\n",
        "predict_test  = lr_model.transform(test)"
      ],
      "metadata": {
        "id": "9gkRyZpKmnBp"
      },
      "execution_count": null,
      "outputs": []
    },
    {
      "cell_type": "code",
      "source": [
        "# actual and predicted price of fare\n",
        "predict_test.select(\"label\", \"prediction\").show(10)"
      ],
      "metadata": {
        "colab": {
          "base_uri": "https://localhost:8080/"
        },
        "id": "nhZp2ARyojnM",
        "outputId": "a11c64b4-8c5c-4891-f7c1-78c51289726b"
      },
      "execution_count": null,
      "outputs": [
        {
          "output_type": "stream",
          "name": "stdout",
          "text": [
            "+---------+------------------+\n",
            "|    label|        prediction|\n",
            "+---------+------------------+\n",
            "|282.47125| 285.3814482450148|\n",
            "| 350.0582| 343.6190508053942|\n",
            "|357.85797| 346.6243586238213|\n",
            "| 357.8637|351.37317467861044|\n",
            "| 368.6548|377.70015637334404|\n",
            "|374.26968|369.37608010296526|\n",
            "|375.39847| 375.3393046090978|\n",
            "|376.49683| 391.4569629085199|\n",
            "|378.47357|  372.394082127983|\n",
            "|  385.095| 385.7628861496771|\n",
            "+---------+------------------+\n",
            "only showing top 10 rows\n",
            "\n"
          ]
        }
      ]
    },
    {
      "cell_type": "code",
      "source": [
        "# model summary\n",
        "training_summary=lr_model.summary\n",
        "print('No. of Iterations',training_summary.totalIterations)"
      ],
      "metadata": {
        "colab": {
          "base_uri": "https://localhost:8080/"
        },
        "id": "My9wkZ5Xm5KI",
        "outputId": "1c602989-6123-4b0a-8c69-2aa9093cc8ac"
      },
      "execution_count": null,
      "outputs": [
        {
          "output_type": "stream",
          "name": "stdout",
          "text": [
            "No. of Iterations 0\n"
          ]
        }
      ]
    },
    {
      "cell_type": "code",
      "source": [
        "print('Objective History',training_summary.objectiveHistory)"
      ],
      "metadata": {
        "colab": {
          "base_uri": "https://localhost:8080/"
        },
        "id": "RJsikgMbnukf",
        "outputId": "200d32e1-e7b9-4e4a-f5f4-34f7c53a4769"
      },
      "execution_count": null,
      "outputs": [
        {
          "output_type": "stream",
          "name": "stdout",
          "text": [
            "Objective History [0.0]\n"
          ]
        }
      ]
    },
    {
      "cell_type": "code",
      "source": [
        "training_summary.residuals.show()"
      ],
      "metadata": {
        "colab": {
          "base_uri": "https://localhost:8080/"
        },
        "id": "QhTjDcndn-4n",
        "outputId": "49dbb1e2-4f01-46da-9bce-6f7b1afb0d2e"
      },
      "execution_count": null,
      "outputs": [
        {
          "output_type": "stream",
          "name": "stdout",
          "text": [
            "+-------------------+\n",
            "|          residuals|\n",
            "+-------------------+\n",
            "|-15.587495415130206|\n",
            "| -5.221742263440774|\n",
            "| -6.402189278401693|\n",
            "|  18.40341150496397|\n",
            "|   -9.0860256546855|\n",
            "|0.02901652640412067|\n",
            "| -9.753599483513426|\n",
            "| -9.556044909877983|\n",
            "|  5.899363630348489|\n",
            "|-0.8823671822960932|\n",
            "| -4.301951526254243|\n",
            "| -6.068953691879187|\n",
            "| 16.566074572593834|\n",
            "| -6.763151799483012|\n",
            "| -3.564810927678991|\n",
            "| -12.15934645962534|\n",
            "|-15.000046156686949|\n",
            "|  7.032866432692572|\n",
            "| 10.350925831443874|\n",
            "| 1.3932981646339613|\n",
            "+-------------------+\n",
            "only showing top 20 rows\n",
            "\n"
          ]
        }
      ]
    },
    {
      "cell_type": "markdown",
      "source": [
        "## Logistic Regression"
      ],
      "metadata": {
        "id": "u1X6-BvOrsEN"
      }
    },
    {
      "cell_type": "code",
      "source": [
        "# Transform each qualititative data in the dataset into a double numeric value\n",
        "def getDoubleValue(input):\n",
        "    result = 0.0\n",
        "    if (input == 'P'):\n",
        "        result = 3.0\n",
        "    if (input == 'A'):\n",
        "        result = 2.0\n",
        "    if (input == 'N'):\n",
        "        result = 1.0\n",
        "    if (input == 'NB'):\n",
        "        result = 1.0\n",
        "    if (input == 'B'):\n",
        "        result = 0.0\n",
        "    return result"
      ],
      "metadata": {
        "id": "NAH6g3xf0QJo"
      },
      "execution_count": null,
      "outputs": []
    },
    {
      "cell_type": "code",
      "source": [
        "# read the file\n",
        "data = sc.textFile(\"/content/drive/MyDrive/fiverr/13-07-2022/Qualitative_Bankruptcy.txt\")\n",
        "data.count()"
      ],
      "metadata": {
        "colab": {
          "base_uri": "https://localhost:8080/"
        },
        "id": "RtFLOLp40QMX",
        "outputId": "0bdfed6f-adaa-4352-9ab4-e7758ffd9f2e"
      },
      "execution_count": null,
      "outputs": [
        {
          "output_type": "execute_result",
          "data": {
            "text/plain": [
              "250"
            ]
          },
          "metadata": {},
          "execution_count": 164
        }
      ]
    },
    {
      "cell_type": "code",
      "source": [
        "# Prepare data for the logistic regression algorithm\n",
        "dataTuple=data.map(lambda o: (getDoubleValue(o.split(\",\")[0]),getDoubleValue(o.split(\",\")[1]),getDoubleValue(o.split(\",\")[2]),getDoubleValue(o.split(\",\")[3]),getDoubleValue(o.split(\",\")[4]),getDoubleValue(o.split(\",\")[5]),getDoubleValue(o.split(\",\")[6])))\n",
        "df=dataTuple.toDF(['Industrial Risk','Management Risk','Financial Flexibility','Credibility','Competitiveness','Operating Risk','Class'])\n",
        "df.show(5)"
      ],
      "metadata": {
        "colab": {
          "base_uri": "https://localhost:8080/"
        },
        "id": "OpoyivpG0QPa",
        "outputId": "d9460c42-614a-4ad9-c2e6-716eb16e48e0"
      },
      "execution_count": null,
      "outputs": [
        {
          "output_type": "stream",
          "name": "stdout",
          "text": [
            "+---------------+---------------+---------------------+-----------+---------------+--------------+-----+\n",
            "|Industrial Risk|Management Risk|Financial Flexibility|Credibility|Competitiveness|Operating Risk|Class|\n",
            "+---------------+---------------+---------------------+-----------+---------------+--------------+-----+\n",
            "|            3.0|            3.0|                  2.0|        2.0|            2.0|           3.0|  1.0|\n",
            "|            1.0|            1.0|                  2.0|        2.0|            2.0|           1.0|  1.0|\n",
            "|            2.0|            2.0|                  2.0|        2.0|            2.0|           2.0|  1.0|\n",
            "|            3.0|            3.0|                  3.0|        3.0|            3.0|           3.0|  1.0|\n",
            "|            1.0|            1.0|                  3.0|        3.0|            3.0|           1.0|  1.0|\n",
            "+---------------+---------------+---------------------+-----------+---------------+--------------+-----+\n",
            "only showing top 5 rows\n",
            "\n"
          ]
        }
      ]
    },
    {
      "cell_type": "code",
      "source": [
        "# create and configure the assembler\n",
        "ignore = ['Class']\n",
        "assembler = VectorAssembler(\n",
        "    inputCols=[x for x in df.columns if x not in ignore],\n",
        "    outputCol='features')\n",
        "\n",
        "assembler_df = assembler.transform(df)\n",
        "assembler_df.show(5)"
      ],
      "metadata": {
        "colab": {
          "base_uri": "https://localhost:8080/"
        },
        "id": "19zkkq261vzt",
        "outputId": "ac23a122-f3a2-4f43-84ab-dfdcab63f148"
      },
      "execution_count": null,
      "outputs": [
        {
          "output_type": "stream",
          "name": "stdout",
          "text": [
            "+---------------+---------------+---------------------+-----------+---------------+--------------+-----+--------------------+\n",
            "|Industrial Risk|Management Risk|Financial Flexibility|Credibility|Competitiveness|Operating Risk|Class|            features|\n",
            "+---------------+---------------+---------------------+-----------+---------------+--------------+-----+--------------------+\n",
            "|            3.0|            3.0|                  2.0|        2.0|            2.0|           3.0|  1.0|[3.0,3.0,2.0,2.0,...|\n",
            "|            1.0|            1.0|                  2.0|        2.0|            2.0|           1.0|  1.0|[1.0,1.0,2.0,2.0,...|\n",
            "|            2.0|            2.0|                  2.0|        2.0|            2.0|           2.0|  1.0|[2.0,2.0,2.0,2.0,...|\n",
            "|            3.0|            3.0|                  3.0|        3.0|            3.0|           3.0|  1.0|[3.0,3.0,3.0,3.0,...|\n",
            "|            1.0|            1.0|                  3.0|        3.0|            3.0|           1.0|  1.0|[1.0,1.0,3.0,3.0,...|\n",
            "+---------------+---------------+---------------------+-----------+---------------+--------------+-----+--------------------+\n",
            "only showing top 5 rows\n",
            "\n"
          ]
        }
      ]
    },
    {
      "cell_type": "code",
      "source": [
        "# create label column\n",
        "label_df = assembler_df.withColumn(\"label\", assembler_df[\"Class\"])\n",
        "label_df.show(5)"
      ],
      "metadata": {
        "colab": {
          "base_uri": "https://localhost:8080/"
        },
        "id": "zUl9eqgw1v2t",
        "outputId": "fe667ef3-a951-4672-8944-8cc9b16db889"
      },
      "execution_count": null,
      "outputs": [
        {
          "output_type": "stream",
          "name": "stdout",
          "text": [
            "+---------------+---------------+---------------------+-----------+---------------+--------------+-----+--------------------+-----+\n",
            "|Industrial Risk|Management Risk|Financial Flexibility|Credibility|Competitiveness|Operating Risk|Class|            features|label|\n",
            "+---------------+---------------+---------------------+-----------+---------------+--------------+-----+--------------------+-----+\n",
            "|            3.0|            3.0|                  2.0|        2.0|            2.0|           3.0|  1.0|[3.0,3.0,2.0,2.0,...|  1.0|\n",
            "|            1.0|            1.0|                  2.0|        2.0|            2.0|           1.0|  1.0|[1.0,1.0,2.0,2.0,...|  1.0|\n",
            "|            2.0|            2.0|                  2.0|        2.0|            2.0|           2.0|  1.0|[2.0,2.0,2.0,2.0,...|  1.0|\n",
            "|            3.0|            3.0|                  3.0|        3.0|            3.0|           3.0|  1.0|[3.0,3.0,3.0,3.0,...|  1.0|\n",
            "|            1.0|            1.0|                  3.0|        3.0|            3.0|           1.0|  1.0|[1.0,1.0,3.0,3.0,...|  1.0|\n",
            "+---------------+---------------+---------------------+-----------+---------------+--------------+-----+--------------------+-----+\n",
            "only showing top 5 rows\n",
            "\n"
          ]
        }
      ]
    },
    {
      "cell_type": "code",
      "source": [
        "# parse the data\n",
        "parsed_data = assembler_df.rdd.map(lambda x: LabeledPoint(x[6], x[:6]))\n",
        "parsed_data.take(5)"
      ],
      "metadata": {
        "colab": {
          "base_uri": "https://localhost:8080/"
        },
        "id": "ZJfv2whS1v6M",
        "outputId": "31786e19-a0d2-4149-fc65-d7b37b20ac26"
      },
      "execution_count": null,
      "outputs": [
        {
          "output_type": "execute_result",
          "data": {
            "text/plain": [
              "[LabeledPoint(1.0, [3.0,3.0,2.0,2.0,2.0,3.0]),\n",
              " LabeledPoint(1.0, [1.0,1.0,2.0,2.0,2.0,1.0]),\n",
              " LabeledPoint(1.0, [2.0,2.0,2.0,2.0,2.0,2.0]),\n",
              " LabeledPoint(1.0, [3.0,3.0,3.0,3.0,3.0,3.0]),\n",
              " LabeledPoint(1.0, [1.0,1.0,3.0,3.0,3.0,1.0])]"
            ]
          },
          "metadata": {},
          "execution_count": 175
        }
      ]
    },
    {
      "cell_type": "code",
      "source": [
        "# Split train & test\n",
        "train_data, test_data = parsed_data.randomSplit([0.6, 0.4], seed=11)\n",
        "print(\"Training Dataset Count : \" + str(train_data.count()))\n",
        "print(\"Test Dataset Count : \" + str(test_data.count()))"
      ],
      "metadata": {
        "colab": {
          "base_uri": "https://localhost:8080/"
        },
        "id": "wccMGVpq2Du9",
        "outputId": "a03b8bbd-ce95-4a96-aac4-28cd2a36e11a"
      },
      "execution_count": null,
      "outputs": [
        {
          "output_type": "stream",
          "name": "stdout",
          "text": [
            "Training Dataset Count : 162\n",
            "Test Dataset Count : 88\n"
          ]
        }
      ]
    },
    {
      "cell_type": "code",
      "source": [
        "# fit the model\n",
        "model = LogisticRegressionWithLBFGS.train(train_data, numClasses=2)"
      ],
      "metadata": {
        "id": "LP5zexGq2JMa"
      },
      "execution_count": null,
      "outputs": []
    },
    {
      "cell_type": "code",
      "source": [
        "# get results on test data\n",
        "labels_and_preds = test_data.map(lambda p: (p.label, model.predict(p.features)))"
      ],
      "metadata": {
        "id": "k3JxyLSO2Oyt"
      },
      "execution_count": null,
      "outputs": []
    },
    {
      "cell_type": "code",
      "source": [
        "# get error\n",
        "train_err = labels_and_preds.filter(lambda lp: lp[0] != lp[1]).count() / float(test_data.count())"
      ],
      "metadata": {
        "id": "IJ3HqmDW2RZT"
      },
      "execution_count": null,
      "outputs": []
    },
    {
      "cell_type": "code",
      "source": [
        "print(\"Training Error = \" + str(train_err))"
      ],
      "metadata": {
        "colab": {
          "base_uri": "https://localhost:8080/"
        },
        "id": "IrsxdUtF2ThW",
        "outputId": "5e2dc24c-45e0-4715-99e0-f624e346fbaf"
      },
      "execution_count": null,
      "outputs": [
        {
          "output_type": "stream",
          "name": "stdout",
          "text": [
            "Training Error = 0.17045454545454544\n"
          ]
        }
      ]
    }
  ]
}